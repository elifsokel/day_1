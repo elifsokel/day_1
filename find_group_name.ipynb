{
 "cells": [
  {
   "cell_type": "code",
   "execution_count": null,
   "id": "dc3312c5-48e5-4f0d-820d-c89723ec8b19",
   "metadata": {},
   "outputs": [
    {
     "name": "stdout",
     "output_type": "stream",
     "text": [
      "Grup İsmi Üreticiye Hoşgeldin\n"
     ]
    }
   ],
   "source": [
    "print(\"Grup İsmi Üreticiye Hoşgeldin\")\n",
    "sehir = input(\"Hangi şehirde büyüdün?\")\n",
    "print(sehir)\n",
    "evcil_hayvan = input(\"Evcil hayvanının adı nedir?\")\n",
    "print(evcil_hayvan)\n",
    "muzik_turu = input(\"Hangi tür müziklerden hoşlanırsın?\")\n",
    "print(muzik_turu)\n",
    "print(\"Grubunuzun adı şu olabilir: \" + sehir + \" \" + evcil_hayvan + \" \" + muzik_turu)"
   ]
  }
 ],
 "metadata": {
  "kernelspec": {
   "display_name": "Python 3",
   "language": "python",
   "name": "python3"
  },
  "language_info": {
   "codemirror_mode": {
    "name": "ipython",
    "version": 3
   },
   "file_extension": ".py",
   "mimetype": "text/x-python",
   "name": "python",
   "nbconvert_exporter": "python",
   "pygments_lexer": "ipython3",
   "version": "3.10.6 (tags/v3.10.6:9c7b4bd, Aug  1 2022, 21:53:49) [MSC v.1932 64 bit (AMD64)]"
  },
  "vscode": {
   "interpreter": {
    "hash": "3d2d6ad8127f4ecccce1f5ecd538c5dceca61d65924cc3c19a01b79e2fff1262"
   }
  }
 },
 "nbformat": 4,
 "nbformat_minor": 5
}
